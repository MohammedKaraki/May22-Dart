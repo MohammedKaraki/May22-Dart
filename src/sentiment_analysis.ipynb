{
 "cells": [
  {
   "cell_type": "code",
   "execution_count": 1,
   "metadata": {},
   "outputs": [],
   "source": [
    "import pandas as pd\n",
    "import numpy as np\n",
    "import matplotlib.pyplot as plt\n",
    "import seaborn as sns\n",
    "\n",
    "from sklearn import svm\n",
    "from sklearn.metrics import accuracy_score,confusion_matrix\n",
    "from sklearn.feature_extraction.text import CountVectorizer\n",
    "\n",
    "\n",
    "import nltk\n",
    "from nltk.tokenize import word_tokenize"
   ]
  },
  {
   "cell_type": "code",
   "execution_count": 2,
   "metadata": {},
   "outputs": [
    {
     "name": "stderr",
     "output_type": "stream",
     "text": [
      "[nltk_data] Downloading package stopwords to\n",
      "[nltk_data]     /home/mohammed/nltk_data...\n",
      "[nltk_data]   Package stopwords is already up-to-date!\n",
      "[nltk_data] Downloading package punkt to /home/mohammed/nltk_data...\n",
      "[nltk_data]   Package punkt is already up-to-date!\n"
     ]
    },
    {
     "data": {
      "text/plain": [
       "True"
      ]
     },
     "execution_count": 2,
     "metadata": {},
     "output_type": "execute_result"
    }
   ],
   "source": [
    "nltk.download('stopwords')\n",
    "nltk.download('punkt')"
   ]
  },
  {
   "cell_type": "code",
   "execution_count": 3,
   "metadata": {},
   "outputs": [],
   "source": [
    "from nltk.corpus import stopwords\n",
    "stopwords = stopwords.words('english')\n",
    "from sklearn.feature_extraction.text import CountVectorizer"
   ]
  },
  {
   "cell_type": "code",
   "execution_count": 30,
   "metadata": {},
   "outputs": [],
   "source": [
    "def load_data(data_label):\n",
    "    \"\"\"Return a DataFrame with two columns, named 'text'\n",
    "    and 'target'. Column 'sentiment', an integer between 0 and 5,\n",
    "    is a numerical representation of the sentiment in Column 'text'.\n",
    "    \n",
    "    params:\n",
    "    ----------------------\n",
    "        data_label: \"tweets\" or \"movies\".\n",
    "            We can add other datasets if needed.\n",
    "    \"\"\"\n",
    "    \n",
    "    \n",
    "    if data_label == \"tweets\":\n",
    "        return pd.read_csv('../datasets/200-thousand-tweets.csv',\n",
    "                           encoding='latin-1',\n",
    "                           header = None,\n",
    "                           usecols=[0, 5],\n",
    "                           names=[\"sentiment\", \"text\"])\n",
    "    elif data_label == \"movies\":\n",
    "        return pd.read_csv('../datasets/8.5-thousand-reviews.tsv',\n",
    "                           sep='\\t',\n",
    "                           header = None,\n",
    "                           usecols=[0, 1],\n",
    "                           names=[\"sentiment\", \"text\"])\n",
    "     \n",
    "    raise ValueError(\"Invalid `data_label` used. Currently supported options are \"\n",
    "        \"\\\"tweets\\\" and \\\"movies\\\".\")\n",
    "        \n",
    "data = load_data(\"tweets\")"
   ]
  },
  {
   "cell_type": "code",
   "execution_count": 39,
   "metadata": {},
   "outputs": [],
   "source": [
    "training_count = 5000\n",
    "test_count = 1000\n",
    "total_count = training_count + test_count\n",
    "\n",
    "# How many numerical features to construct out of a given text.\n",
    "# The mathematical modelling will be based on these numerical features,\n",
    "# rather than the text itself.\n",
    "features_count = 300\n",
    "\n",
    "# Random sample\n",
    "data = data.sample(n=total_count, random_state=100).reset_index(drop=True)"
   ]
  },
  {
   "cell_type": "code",
   "execution_count": 40,
   "metadata": {},
   "outputs": [],
   "source": [
    "def clean_text(text):\n",
    "    \"\"\"\n",
    "    Return clean text\n",
    "    params\n",
    "    ------------\n",
    "        text: string\n",
    "    \"\"\"\n",
    "\n",
    "    text = text.lower() # Lowercase\n",
    "    tokens = word_tokenize(text)\n",
    "    tokens = [t for t in tokens if not t in stopwords] # Remove stopwords\n",
    "    tokens = [t for t in tokens if t.isalnum()] # Remove punctuation\n",
    "    text_clean = \" \".join(tokens)\n",
    "    \n",
    "    return text_clean\n",
    "\n",
    "# Clean text \n",
    "data['text'] = [clean_text(text) for text in data['text']]"
   ]
  },
  {
   "cell_type": "code",
   "execution_count": 41,
   "metadata": {},
   "outputs": [
    {
     "data": {
      "text/html": [
       "<div>\n",
       "<style scoped>\n",
       "    .dataframe tbody tr th:only-of-type {\n",
       "        vertical-align: middle;\n",
       "    }\n",
       "\n",
       "    .dataframe tbody tr th {\n",
       "        vertical-align: top;\n",
       "    }\n",
       "\n",
       "    .dataframe thead th {\n",
       "        text-align: right;\n",
       "    }\n",
       "</style>\n",
       "<table border=\"1\" class=\"dataframe\">\n",
       "  <thead>\n",
       "    <tr style=\"text-align: right;\">\n",
       "      <th></th>\n",
       "      <th>sentiment</th>\n",
       "      <th>text</th>\n",
       "    </tr>\n",
       "  </thead>\n",
       "  <tbody>\n",
       "    <tr>\n",
       "      <th>0</th>\n",
       "      <td>4</td>\n",
       "      <td>miggg jealous cause get covers time skeezah haha</td>\n",
       "    </tr>\n",
       "    <tr>\n",
       "      <th>1</th>\n",
       "      <td>4</td>\n",
       "      <td>zarg lol definitely truism</td>\n",
       "    </tr>\n",
       "    <tr>\n",
       "      <th>2</th>\n",
       "      <td>4</td>\n",
       "      <td>kathrynjay til sunday absolutely zilch lol alt...</td>\n",
       "    </tr>\n",
       "    <tr>\n",
       "      <th>3</th>\n",
       "      <td>4</td>\n",
       "      <td>kyranbracken skate school looks fantastic grea...</td>\n",
       "    </tr>\n",
       "    <tr>\n",
       "      <th>4</th>\n",
       "      <td>4</td>\n",
       "      <td>chillin work three days week</td>\n",
       "    </tr>\n",
       "  </tbody>\n",
       "</table>\n",
       "</div>"
      ],
      "text/plain": [
       "   sentiment                                               text\n",
       "0          4   miggg jealous cause get covers time skeezah haha\n",
       "1          4                         zarg lol definitely truism\n",
       "2          4  kathrynjay til sunday absolutely zilch lol alt...\n",
       "3          4  kyranbracken skate school looks fantastic grea...\n",
       "4          4                       chillin work three days week"
      ]
     },
     "execution_count": 41,
     "metadata": {},
     "output_type": "execute_result"
    }
   ],
   "source": [
    "data.head()"
   ]
  },
  {
   "cell_type": "code",
   "execution_count": 42,
   "metadata": {},
   "outputs": [],
   "source": [
    "# Train test split\n",
    "train = data[:training_count]\n",
    "test = data[training_count:total_count].reset_index(drop=True)\n",
    "\n",
    "# Create count vectoriser \n",
    "vectorizer = CountVectorizer(ngram_range=(1, 2),\n",
    "                             max_features=features_count)\n",
    "\n",
    "# Transform training corpus into feature matrix\n",
    "X = vectorizer.fit_transform(train[\"text\"])\n",
    "feature_names = vectorizer.get_feature_names()\n",
    "\n",
    "x_train = pd.DataFrame(data=X.toarray(), columns=feature_names)\n",
    "y_train = train[\"sentiment\"]"
   ]
  },
  {
   "cell_type": "code",
   "execution_count": 43,
   "metadata": {},
   "outputs": [],
   "source": [
    "# Transform testing corpus into feature matrix\n",
    "X = vectorizer.transform(test['text'])\n",
    "\n",
    "x_test = pd.DataFrame(data=X.toarray(),columns=feature_names)\n",
    "y_test = test['sentiment']"
   ]
  },
  {
   "cell_type": "code",
   "execution_count": 44,
   "metadata": {},
   "outputs": [],
   "source": [
    "# Min-Max scalling\n",
    "x_max = x_train.max()\n",
    "x_min = x_train.min()\n",
    "\n",
    "x_train = (x_train-x_min) / x_max\n",
    "x_test = (x_test-x_min) / x_max"
   ]
  },
  {
   "cell_type": "code",
   "execution_count": 45,
   "metadata": {},
   "outputs": [
    {
     "name": "stdout",
     "output_type": "stream",
     "text": [
      "Accuracy: 0.702\n"
     ]
    }
   ],
   "source": [
    "# Fit SVM\n",
    "model = svm.SVC(kernel='linear', C=1).fit(x_train, y_train)\n",
    "\n",
    "# Get predictions on test set\n",
    "y_pred = model.predict(x_test)\n",
    "\n",
    "# Accuracy on test set\n",
    "accuracy = accuracy_score(y_test,y_pred)\n",
    "print(\"Accuracy: {}\".format(accuracy))"
   ]
  },
  {
   "cell_type": "code",
   "execution_count": 46,
   "metadata": {},
   "outputs": [
    {
     "data": {
      "text/plain": [
       "Text(0.5, 61.5, 'Predicted')"
      ]
     },
     "execution_count": 46,
     "metadata": {},
     "output_type": "execute_result"
    },
    {
     "data": {
      "image/png": "[encoded data removed]",
      "text/plain": [
       "<Figure size 720x720 with 1 Axes>"
      ]
     },
     "metadata": {},
     "output_type": "display_data"
    }
   ],
   "source": [
    "# Create confusion matrix\n",
    "conf_matrix = confusion_matrix(y_test, y_pred)\n",
    "conf_matrix = pd.DataFrame(data=conf_matrix,\n",
    "                           columns=['negative', 'positive'],\n",
    "                           index=['negative', 'positive'])\n",
    "\n",
    "# Plot confusion matrix\n",
    "plt.figure(figsize=(10, 10), facecolor='w', edgecolor='k')\n",
    "sns.set(font_scale=1.5)\n",
    "sns.heatmap(conf_matrix, cmap='coolwarm', annot=True, fmt='.5g', cbar=False)\n",
    "plt.ylabel('Actual', size=20)\n",
    "plt.xlabel('Predicted', size=20)"
   ]
  },
  {
   "cell_type": "code",
   "execution_count": null,
   "metadata": {},
   "outputs": [],
   "source": []
  }
 ],
 "metadata": {
  "kernelspec": {
   "display_name": "Python 3",
   "language": "python",
   "name": "python3"
  },
  "language_info": {
   "codemirror_mode": {
    "name": "ipython",
    "version": 3
   },
   "file_extension": ".py",
   "mimetype": "text/x-python",
   "name": "python",
   "nbconvert_exporter": "python",
   "pygments_lexer": "ipython3",
   "version": "3.7.6"
  }
 },
 "nbformat": 4,
 "nbformat_minor": 4
}
